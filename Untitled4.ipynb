{
 "cells": [
  {
   "cell_type": "code",
   "execution_count": 40,
   "metadata": {},
   "outputs": [],
   "source": [
    "class logistic_regression():\n",
    "    #terms we'll use -epochs (how many times well descend or ascend to get our bwst weights)\n",
    "#learning_rate = amount how fast we descend\n",
    "    def __init__(self,epochs=1000,learning_rate=0.001):\n",
    "        self.epochs = epochs\n",
    "        self.learning_rate = learning_rate\n",
    "        \n",
    "        \n",
    "    def fit(self,x,y):\n",
    "        #first we guess weights to pass our sigmoid function (we intialize our weight)\n",
    "        self.weights = np.zeros((x.shape[1]))\n",
    "        for i in range(self.epochs):\n",
    "            z = np.dot(x,self.weights)\n",
    "             #new prediction\n",
    "            self.y_new = (1/(1+ np.exp(-z)))\n",
    "            self.gradient = np.dot(x.T,(self.y_new-y))/y.shape\n",
    "            self.weights = self.weights - self.learning_rate*self.gradient\n",
    "            \n",
    "    def predict(self,x):\n",
    "        \n",
    "          z=np.dot(x,self.weights)\n",
    "          y = (1/(1+ np.exp(-z)))\n",
    "          return y>=0.5\n",
    "        \n",
    "    def confirm(self,y1,y):\n",
    "        return (y1==y).mean()\n",
    "        \n",
    "\n",
    " "
   ]
  },
  {
   "cell_type": "code",
   "execution_count": 19,
   "metadata": {},
   "outputs": [],
   "source": [
    "\n",
    "from sklearn.datasets import load_breast_cancer\n",
    "breast = load_breast_cancer()\n",
    "x = breast.data\n",
    "y = breast.target"
   ]
  },
  {
   "cell_type": "code",
   "execution_count": 41,
   "metadata": {},
   "outputs": [
    {
     "name": "stderr",
     "output_type": "stream",
     "text": [
      "/home/olamide/anaconda3/lib/python3.7/site-packages/ipykernel_launcher.py:15: RuntimeWarning: overflow encountered in exp\n",
      "  from ipykernel import kernelapp as app\n"
     ]
    }
   ],
   "source": [
    "import numpy as np\n",
    "ola = logistic_regression()\n",
    "ola.fit(x,y)"
   ]
  },
  {
   "cell_type": "code",
   "execution_count": 43,
   "metadata": {},
   "outputs": [
    {
     "name": "stderr",
     "output_type": "stream",
     "text": [
      "/home/olamide/anaconda3/lib/python3.7/site-packages/ipykernel_launcher.py:22: RuntimeWarning: overflow encountered in exp\n"
     ]
    }
   ],
   "source": [
    "p = ola.predict(x)"
   ]
  },
  {
   "cell_type": "code",
   "execution_count": 44,
   "metadata": {},
   "outputs": [
    {
     "data": {
      "text/plain": [
       "0.9191564147627417"
      ]
     },
     "execution_count": 44,
     "metadata": {},
     "output_type": "execute_result"
    }
   ],
   "source": [
    "ola.confirm(p,y)"
   ]
  },
  {
   "cell_type": "code",
   "execution_count": null,
   "metadata": {},
   "outputs": [],
   "source": []
  }
 ],
 "metadata": {
  "kernelspec": {
   "display_name": "Python 3",
   "language": "python",
   "name": "python3"
  },
  "language_info": {
   "codemirror_mode": {
    "name": "ipython",
    "version": 3
   },
   "file_extension": ".py",
   "mimetype": "text/x-python",
   "name": "python",
   "nbconvert_exporter": "python",
   "pygments_lexer": "ipython3",
   "version": "3.7.6"
  }
 },
 "nbformat": 4,
 "nbformat_minor": 4
}
